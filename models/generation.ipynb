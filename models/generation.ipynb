{
 "cells": [
  {
   "cell_type": "markdown",
   "id": "e306feb2",
   "metadata": {},
   "source": [
    "# Generation\n",
    "\n",
    "In this file, we train a transformer to be able to generate speeches."
   ]
  },
  {
   "cell_type": "code",
   "execution_count": null,
   "id": "69488417",
   "metadata": {},
   "outputs": [],
   "source": [
    "from datasets import Dataset\n",
    "import torch\n",
    "from transformers import GPT2Tokenizer, GPT2LMHeadModel, Trainer, TrainingArguments, DataCollatorForLanguageModeling\n",
    "\n",
    "import sys\n",
    "sys.path.append(\"../data\")\n",
    "from load_data import load_data\n",
    "\n",
    "SAVE_PATH = \"../saved_models\""
   ]
  },
  {
   "cell_type": "code",
   "execution_count": null,
   "id": "630e3844",
   "metadata": {},
   "outputs": [],
   "source": [
    "data = load_data()"
   ]
  },
  {
   "cell_type": "code",
   "execution_count": null,
   "id": "0f8beb59",
   "metadata": {},
   "outputs": [],
   "source": [
    "parties = [\"extreme gauche\", \"gauche\", \"centre\", \"droite\", \"extreme droite\"]\n",
    "def format_data(row):\n",
    "    return f\"<|party|>{parties[row[\"speaker\"]]}\\n<|speech|>{row[\"text\"]}<|endoftext|>\"\n",
    "\n",
    "data[\"formatted\"] = data.apply(format_data, axis=1)\n",
    "dataset = Dataset.from_pandas(data[[\"formatted\"]])"
   ]
  },
  {
   "cell_type": "code",
   "execution_count": null,
   "id": "676cac50",
   "metadata": {},
   "outputs": [],
   "source": [
    "tokenizer = GPT2Tokenizer.from_pretrained(\"gpt2\")\n",
    "tokenizer.pad_token = tokenizer.eos_token\n",
    "special_tokens = [\"<|party|>\", \"<|speech|>\", \"<|endoftext|>\"]\n",
    "tokenizer.add_special_tokens({'additional_special_tokens': special_tokens})\n",
    "\n",
    "def tokenize(example):\n",
    "    return tokenizer(example['formatted'], truncation=True, padding='max_length', max_length=512)\n",
    "\n",
    "tokenized_dataset = dataset.map(tokenize, batched=True)\n",
    "\n",
    "tokenizer.save_pretrained(f\"{SAVE_PATH}/generative_tokenizer\")"
   ]
  },
  {
   "cell_type": "code",
   "execution_count": null,
   "id": "c8d63a11",
   "metadata": {},
   "outputs": [],
   "source": [
    "model = GPT2LMHeadModel.from_pretrained(\"gpt2\")\n",
    "model.resize_token_embeddings(len(tokenizer))\n",
    "\n",
    "model.to(\"cuda\" if torch.cuda.is_available() else \"cpu\")\n",
    "\n",
    "data_collator = DataCollatorForLanguageModeling(tokenizer=tokenizer, mlm=False)\n",
    "\n",
    "training_args = TrainingArguments(\n",
    "    output_dir=\"./results\",\n",
    "    overwrite_output_dir=True,\n",
    "    per_device_train_batch_size=2,\n",
    "    num_train_epochs=3,\n",
    "    save_steps=500,\n",
    "    save_total_limit=2,\n",
    "    logging_dir=\"./logs\",\n",
    "    prediction_loss_only=True,\n",
    ")\n",
    "\n",
    "trainer = Trainer(\n",
    "    model=model,\n",
    "    args=training_args,\n",
    "    data_collator=data_collator,\n",
    "    train_dataset=tokenized_dataset,\n",
    ")\n",
    "\n",
    "trainer.train()\n",
    "\n",
    "model.save_pretrained(f\"{SAVE_PATH}/generative_model\")"
   ]
  }
 ],
 "metadata": {
  "kernelspec": {
   "display_name": ".venv",
   "language": "python",
   "name": "python3"
  },
  "language_info": {
   "codemirror_mode": {
    "name": "ipython",
    "version": 3
   },
   "file_extension": ".py",
   "mimetype": "text/x-python",
   "name": "python",
   "nbconvert_exporter": "python",
   "pygments_lexer": "ipython3",
   "version": "3.12.2"
  }
 },
 "nbformat": 4,
 "nbformat_minor": 5
}
